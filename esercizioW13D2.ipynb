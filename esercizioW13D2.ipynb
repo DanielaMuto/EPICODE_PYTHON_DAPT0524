{
 "cells": [
  {
   "cell_type": "code",
   "execution_count": 1,
   "id": "8cb2fa76-082b-4795-8345-87c8fbbe294f",
   "metadata": {},
   "outputs": [],
   "source": [
    "nome_scuola = \"Epicode\""
   ]
  },
  {
   "cell_type": "code",
   "execution_count": 3,
   "id": "8d4bb834-7d78-4610-8e3b-b3e3b897c6b7",
   "metadata": {},
   "outputs": [],
   "source": [
    "index = 0"
   ]
  },
  {
   "cell_type": "code",
   "execution_count": 5,
   "id": "1f70b8dc-6382-44b5-a217-2a96da617146",
   "metadata": {},
   "outputs": [
    {
     "name": "stdout",
     "output_type": "stream",
     "text": [
      "E\n",
      "p\n",
      "i\n",
      "c\n",
      "o\n",
      "d\n",
      "e\n"
     ]
    }
   ],
   "source": [
    "while index < len(nome_scuola):\n",
    "    print(nome_scuola[index])\n",
    "    index += 1"
   ]
  },
  {
   "cell_type": "code",
   "execution_count": 7,
   "id": "b48dedd4-8738-4153-9bb2-f1c3124b1e58",
   "metadata": {},
   "outputs": [
    {
     "name": "stdout",
     "output_type": "stream",
     "text": [
      "0\n",
      "1\n",
      "2\n",
      "3\n",
      "4\n",
      "5\n",
      "6\n",
      "7\n",
      "8\n",
      "9\n",
      "10\n",
      "11\n",
      "12\n",
      "13\n",
      "14\n",
      "15\n",
      "16\n",
      "17\n",
      "18\n",
      "19\n",
      "20\n"
     ]
    }
   ],
   "source": [
    "numero = 0\n",
    "while numero <= 20:\n",
    "    print(numero)\n",
    "    numero += 1"
   ]
  },
  {
   "cell_type": "code",
   "execution_count": 8,
   "id": "0edc95cc-c83e-4d2d-b16f-bd5685f1b0db",
   "metadata": {},
   "outputs": [
    {
     "name": "stdout",
     "output_type": "stream",
     "text": [
      "2  4  8  16  32  64  128  256  512  1024  "
     ]
    }
   ],
   "source": [
    "n = 2\n",
    "m = n\n",
    "c = 0\n",
    "while c < 10:\n",
    "    print(n, end='  ')\n",
    "    n *= m\n",
    "    c += 1"
   ]
  },
  {
   "cell_type": "code",
   "execution_count": 16,
   "id": "76db70dd-184b-4c89-aeb2-9490e3c5d2a4",
   "metadata": {},
   "outputs": [
    {
     "name": "stdin",
     "output_type": "stream",
     "text": [
      "Inserire il valore di N: 19\n"
     ]
    },
    {
     "name": "stdout",
     "output_type": "stream",
     "text": [
      "2  4  8  16  32  64  128  256  512  1024  2048  4096  8192  16384  32768  65536  131072  262144  524288  "
     ]
    }
   ],
   "source": [
    "N = int(input(\"Inserire il valore di N:\"))\n",
    "n = 2\n",
    "c = 0\n",
    "if N < 20:\n",
    "    while c < N:\n",
    "        print(n, end='  ')\n",
    "        n *= 2\n",
    "        c += 1\n",
    "else:\n",
    "    print(\"Il valore massimo di N è 20\")"
   ]
  },
  {
   "cell_type": "code",
   "execution_count": 18,
   "id": "139da529-e8e1-4039-8428-0ca68aa24063",
   "metadata": {},
   "outputs": [
    {
     "name": "stdout",
     "output_type": "stream",
     "text": [
      "2**0 = 1\n",
      "2**1 = 2\n",
      "2**2 = 4\n",
      "2**3 = 8\n",
      "2**4 = 16\n",
      "2**5 = 32\n",
      "2**6 = 64\n",
      "2**7 = 128\n",
      "2**8 = 256\n",
      "2**9 = 512\n",
      "2**10 = 1024\n",
      "2**11 = 2048\n",
      "2**12 = 4096\n",
      "2**13 = 8192\n",
      "2**14 = 16384\n"
     ]
    }
   ],
   "source": [
    "esponente = 0\n",
    "potenza = 1\n",
    "while potenza < 25000:\n",
    "    print(f\"2**{esponente} = {potenza}\")\n",
    "    esponente += 1\n",
    "    potenza = 2 ** esponente"
   ]
  },
  {
   "cell_type": "code",
   "execution_count": 28,
   "id": "336a77b7-3a44-452d-ae72-e50cdd5a8218",
   "metadata": {},
   "outputs": [],
   "source": [
    "studenti = [\"Alex\", \"Bob\", \"Cindy\", \"Dan\", \"Emma\", \"Faith\", \"Grace\", \"Henry\"] \n",
    "corsi = [\"Cybersecurity\", \"Data Analyst\", \"Backend\", \"Frontend\", \"Data Analyst\", \"Backend\"]"
   ]
  },
  {
   "cell_type": "code",
   "execution_count": 30,
   "id": "579eedf3-0319-4ae8-aff4-e185563cb459",
   "metadata": {},
   "outputs": [],
   "source": [
    "if \"Emma\" in studenti and studenti.index(\"Emma\") >= len(corsi):\n",
    "    corsi.append(\"Data Analyst\")\n",
    "elif \"Faith\" in studenti and studenti.index(\"Faith\") >= len(corsi):\n",
    "    corsi.append(\"Backend\")\n",
    "elif \"Grace\" in studenti and studenti.index(\"Grace\") >= len(corsi):\n",
    "    corsi.append(\"Frontend\")\n",
    "elif \"Henry\" in studenti and studenti.index(\"Henry\") >= len(corsi):\n",
    "    corsi.append(\"Cybersecurity\")\n",
    "elif len(studenti) == len(corsi):\n",
    "    print(\"Le liste hanno la stessa lunghezza\")\n",
    "    print(corsi)\n",
    "else:\n",
    "    print(\"Le liste non hanno la stessa lunghezza\")\n",
    "    print(studenti)\n",
    "    print(corsi)"
   ]
  },
  {
   "cell_type": "code",
   "execution_count": 48,
   "id": "da21d068-24b1-4bb9-b25c-96742a00158f",
   "metadata": {},
   "outputs": [
    {
     "name": "stdin",
     "output_type": "stream",
     "text": [
      "Inserisci una stringa:  geografia\n"
     ]
    },
    {
     "name": "stdout",
     "output_type": "stream",
     "text": [
      "geo...fia\n"
     ]
    }
   ],
   "source": [
    "stringa = input(\"Inserisci una stringa: \")\n",
    "if len(stringa) < 6:\n",
    "    print(\"Inserire almeno 6 caratteri\")\n",
    "else:\n",
    "    print(f\"{stringa[:3]}...{stringa[-3:]}\")"
   ]
  },
  {
   "cell_type": "code",
   "execution_count": 2,
   "id": "830dee4d-6929-4503-b20e-dc8a8cf92f3b",
   "metadata": {},
   "outputs": [
    {
     "name": "stdin",
     "output_type": "stream",
     "text": [
      "Inserire un numero:  45\n"
     ]
    },
    {
     "name": "stdout",
     "output_type": "stream",
     "text": [
      "La lista dei fattori del numero 45 è:  [1, 3, 5, 9, 15, 45]\n"
     ]
    }
   ],
   "source": [
    "a = int(input(\"Inserire un numero: \"))\n",
    "fattori = []\n",
    "for i in range(1, a+1):\n",
    "    if a % i == 0:\n",
    "        fattori.append(i)\n",
    "print(\"La lista dei fattori del numero\", a , \"è: \", fattori)"
   ]
  },
  {
   "cell_type": "code",
   "execution_count": 4,
   "id": "ad6ba700-e69d-4ec3-8c10-8092aa498714",
   "metadata": {},
   "outputs": [
    {
     "name": "stdout",
     "output_type": "stream",
     "text": [
      "E\n",
      "p\n",
      "i\n",
      "c\n",
      "o\n",
      "d\n",
      "e\n"
     ]
    }
   ],
   "source": [
    "nome_scuola = \"Epicode\"\n",
    "for a in nome_scuola:\n",
    "    print(a)"
   ]
  },
  {
   "cell_type": "code",
   "execution_count": 6,
   "id": "4faa181b-6fcb-499f-8fb6-a23147dcb0ac",
   "metadata": {},
   "outputs": [
    {
     "name": "stdout",
     "output_type": "stream",
     "text": [
      "1 2 4 8 16 32 64 128 256 512 1024 "
     ]
    }
   ],
   "source": [
    "potenza = 0\n",
    "while potenza < 11:\n",
    "    a = 2**potenza\n",
    "    print(a, end=\" \")\n",
    "    potenza += 1"
   ]
  },
  {
   "cell_type": "code",
   "execution_count": 14,
   "id": "d1a6d1b7-712d-42f6-8a4a-3f01bc2ea6b8",
   "metadata": {},
   "outputs": [
    {
     "name": "stdin",
     "output_type": "stream",
     "text": [
      "Inserire la base:  2\n",
      "Inserire la potenza:  3\n"
     ]
    },
    {
     "name": "stdout",
     "output_type": "stream",
     "text": [
      "[1, 2, 4, 8]\n"
     ]
    }
   ],
   "source": [
    "k = int(input(\"Inserire la base: \"))\n",
    "n = int(input(\"Inserire la potenza: \"))\n",
    "lista = []\n",
    "potenza = 0\n",
    "while potenza <= n:\n",
    "    a = k**potenza\n",
    "    lista.append(a)\n",
    "    potenza += 1\n",
    "print(lista)"
   ]
  },
  {
   "cell_type": "code",
   "execution_count": 16,
   "id": "8ccf8236-7a00-4c38-82c6-d225d37e20f6",
   "metadata": {},
   "outputs": [
    {
     "name": "stdin",
     "output_type": "stream",
     "text": [
      "Inserire la base:  2\n",
      "Inserire la potenza:  3\n"
     ]
    },
    {
     "name": "stdout",
     "output_type": "stream",
     "text": [
      "[2, 4, 8]\n"
     ]
    }
   ],
   "source": [
    "k = int(input(\"Inserire la base: \"))\n",
    "n = int(input(\"Inserire la potenza: \"))\n",
    "lista = []\n",
    "for potenza in range(1, n+1):\n",
    "    a = k**potenza\n",
    "    lista.append(a)\n",
    "print(lista)"
   ]
  },
  {
   "cell_type": "code",
   "execution_count": 18,
   "id": "71978153-dffa-4562-b7c0-3144e4ac5482",
   "metadata": {},
   "outputs": [
    {
     "name": "stdout",
     "output_type": "stream",
     "text": [
      "70.0\n"
     ]
    }
   ],
   "source": [
    "guadagni = [100, 90, 70, 40, 50, 80, 90, 120, 80, 20, 50, 50]\n",
    "n = len(guadagni)\n",
    "somma = 0\n",
    "for i in guadagni:\n",
    "    somma += i\n",
    "media = somma/n\n",
    "print(media)"
   ]
  },
  {
   "cell_type": "code",
   "execution_count": 22,
   "id": "61cc57e3-dca4-4bad-883f-7ad7f7a4abf0",
   "metadata": {},
   "outputs": [
    {
     "name": "stdout",
     "output_type": "stream",
     "text": [
      "Nella parola Albergo ci sono 0 E maiuscole e 1 e minuscole\n",
      "Nella parola Sedia ci sono 0 E maiuscole e 1 e minuscole\n",
      "Nella parola Borgo ci sono 0 E maiuscole e 0 e minuscole\n",
      "Nella parola Petalo ci sono 0 E maiuscole e 1 e minuscole\n",
      "Nella parola Eremo ci sono 1 E maiuscole e 1 e minuscole\n",
      "Nella parola Belvedere ci sono 0 E maiuscole e 4 e minuscole\n",
      "Nella parola Semestre ci sono 0 E maiuscole e 3 e minuscole\n",
      "Nella parola Esteta ci sono 1 E maiuscole e 1 e minuscole\n",
      "Nella parola Sosta ci sono 0 E maiuscole e 0 e minuscole\n",
      "Nella parola Orpello ci sono 0 E maiuscole e 1 e minuscole\n",
      "Nella parola Abete ci sono 0 E maiuscole e 2 e minuscole\n",
      "Nella parola Orologio ci sono 0 E maiuscole e 0 e minuscole\n",
      "Nella parola Cesta ci sono 0 E maiuscole e 1 e minuscole\n",
      "Nella parola Ermellino ci sono 1 E maiuscole e 1 e minuscole\n"
     ]
    }
   ],
   "source": [
    "parole = [\"Albergo\", \"Sedia\", \"Borgo\", \"Petalo\", \"Eremo\", \"Belvedere\", \"Semestre\", \"Esteta\", \"Sosta\", \"Orpello\", \"Abete\", \"Orologio\", \"Cesta\", \"Ermellino\"]\n",
    "for p in parole:\n",
    "    E = p.count('E')\n",
    "    e = p.count('e')\n",
    "    print(f\"Nella parola {p} ci sono {E} E maiuscole e {e} e minuscole\")"
   ]
  },
  {
   "cell_type": "code",
   "execution_count": 24,
   "id": "30e47e9a-bc21-4e4e-8e3e-b00daaef550b",
   "metadata": {},
   "outputs": [
    {
     "name": "stdout",
     "output_type": "stream",
     "text": [
      "107\n"
     ]
    }
   ],
   "source": [
    "diz = {\"Ada\":\"Punto\", \"Ben\":\"Multipla\", \"Charlie\":\"Golf\", \"Debbie\":\"107\"}\n",
    "if \"Debbie\" in diz:\n",
    "    print(diz[\"Debbie\"])\n",
    "else: \n",
    "    print(\"Debbie non trovata\")"
   ]
  },
  {
   "cell_type": "code",
   "execution_count": 26,
   "id": "950bfc6e-9855-46af-9063-a84a6febc73d",
   "metadata": {},
   "outputs": [
    {
     "name": "stdout",
     "output_type": "stream",
     "text": [
      "Punto\n",
      "Golf\n",
      "107\n"
     ]
    }
   ],
   "source": [
    "dizionario_auto = {\"Ada\": \"Punto\", \"Ben\": \"Multipla\", \"Charlie\": \"Golf\", \"Debbie\": \"107\"}\n",
    "for i in dizionario_auto.values():\n",
    "    if i != \"Multipla\":\n",
    "        print(i)"
   ]
  },
  {
   "cell_type": "code",
   "execution_count": 36,
   "id": "53ff90ee-f91f-47c3-944c-da9be295ce78",
   "metadata": {},
   "outputs": [
    {
     "name": "stdout",
     "output_type": "stream",
     "text": [
      "{'Ada': 'Punto', 'Ben': 'Polo', 'Charlie': 'Golf', 'Debbie': '107', 'Emily': 'A1', 'Fred': 'Octavia', 'Grace': 'Yaris', 'Hugh': 'Clio'}\n"
     ]
    }
   ],
   "source": [
    "dizionario_auto = {\"Ada\": \"Punto\", \"Ben\": \"Multipla\", \"Charlie\": \"Golf\", \"Debbie\": \"107\", \"Emily\": \"A1\"}\n",
    "nuovi_proprietari = {\"Ben\": \"Polo\", \"Fred\": \"Octavia\", \"Grace\": \"Yaris\", \"Hugh\": \"Clio\"}\n",
    "dizionario_auto.update(nuovi_proprietari)\n",
    "print(dizionario_auto)"
   ]
  },
  {
   "cell_type": "code",
   "execution_count": 50,
   "id": "cd9a7421-9fbe-41ad-ad30-e72df84fae0f",
   "metadata": {},
   "outputs": [
    {
     "name": "stdout",
     "output_type": "stream",
     "text": [
      "Minimo:  1\n",
      "Massimo:  10\n"
     ]
    }
   ],
   "source": [
    "lista = [1, 2, 3, 4, 5, 6, 7, 8, 9, 10]\n",
    "print(\"Minimo: \", min(lista))\n",
    "print(\"Massimo: \", max(lista))"
   ]
  },
  {
   "cell_type": "code",
   "execution_count": 54,
   "id": "cbf19673-00ca-4541-b029-266438b01124",
   "metadata": {},
   "outputs": [
    {
     "name": "stdout",
     "output_type": "stream",
     "text": [
      "I massimi trovati sono: {8, 9, 10}\n"
     ]
    }
   ],
   "source": [
    "lista2= [1, 2, 3, 4, 5, 6, 7, 8, 9, 10]\n",
    "if len(lista2) <= 3:\n",
    "    print(\"I massimi trovati sono:\", lista2)\n",
    "else:\n",
    "    lista_ordinata = sorted(lista2, reverse=True)\n",
    "    massimi = lista_ordinata[:3]\n",
    "    print(\"I massimi trovati sono:\", set(massimi))"
   ]
  },
  {
   "cell_type": "code",
   "execution_count": 70,
   "id": "7150f415-9ffc-476e-bee5-c1f1e2b075f3",
   "metadata": {},
   "outputs": [
    {
     "name": "stdin",
     "output_type": "stream",
     "text": [
      "Inserisci una lista di numeri: 1 2 3 4 5 100 200 300\n",
      "Inserisci un numero 50\n"
     ]
    },
    {
     "ename": "UFuncTypeError",
     "evalue": "ufunc 'greater' did not contain a loop with signature matching types (<class 'numpy.dtypes.StrDType'>, <class 'numpy.dtypes.Int64DType'>) -> None",
     "output_type": "error",
     "traceback": [
      "\u001b[0;31m---------------------------------------------------------------------------\u001b[0m",
      "\u001b[0;31mUFuncTypeError\u001b[0m                            Traceback (most recent call last)",
      "Cell \u001b[0;32mIn[70], line 7\u001b[0m\n\u001b[1;32m      4\u001b[0m k \u001b[38;5;241m=\u001b[39m \u001b[38;5;28mint\u001b[39m(\u001b[38;5;28minput\u001b[39m(\u001b[38;5;124m\"\u001b[39m\u001b[38;5;124mInserisci un numero\u001b[39m\u001b[38;5;124m\"\u001b[39m))\n\u001b[1;32m      6\u001b[0m numeri \u001b[38;5;241m=\u001b[39m np\u001b[38;5;241m.\u001b[39marray(lista)\n\u001b[0;32m----> 7\u001b[0m filtro \u001b[38;5;241m=\u001b[39m numeri \u001b[38;5;241m>\u001b[39m k\n\u001b[1;32m      8\u001b[0m selezionati \u001b[38;5;241m=\u001b[39m numeri[filtro]\n\u001b[1;32m      9\u001b[0m selezionati\u001b[38;5;241m.\u001b[39mmean()\n",
      "\u001b[0;31mUFuncTypeError\u001b[0m: ufunc 'greater' did not contain a loop with signature matching types (<class 'numpy.dtypes.StrDType'>, <class 'numpy.dtypes.Int64DType'>) -> None"
     ]
    }
   ],
   "source": [
    "import numpy as np\n",
    "\n",
    "lista = input(f\"Inserisci una lista di numeri:\")\n",
    "k = int(input(\"Inserisci un numero\"))\n",
    "\n",
    "numeri = np.array(lista)\n",
    "filtro = numeri > k\n",
    "selezionati = numeri[filtro]\n",
    "selezionati.mean()"
   ]
  },
  {
   "cell_type": "code",
   "execution_count": 76,
   "id": "c285d091-1b18-4555-806a-84bf7e27dcd3",
   "metadata": {},
   "outputs": [
    {
     "name": "stdin",
     "output_type": "stream",
     "text": [
      "Inserisci una lista di numeri: 3\n"
     ]
    },
    {
     "ename": "TypeError",
     "evalue": "can't multiply sequence by non-int of type 'str'",
     "output_type": "error",
     "traceback": [
      "\u001b[0;31m---------------------------------------------------------------------------\u001b[0m",
      "\u001b[0;31mTypeError\u001b[0m                                 Traceback (most recent call last)",
      "Cell \u001b[0;32mIn[76], line 4\u001b[0m\n\u001b[1;32m      2\u001b[0m caratteri \u001b[38;5;241m=\u001b[39m [\u001b[38;5;28mint\u001b[39m(x) \u001b[38;5;28;01mfor\u001b[39;00m x \u001b[38;5;129;01min\u001b[39;00m lista\u001b[38;5;241m.\u001b[39msplit()]\n\u001b[1;32m      3\u001b[0m \u001b[38;5;28;01mfor\u001b[39;00m x \u001b[38;5;129;01min\u001b[39;00m lista:\n\u001b[0;32m----> 4\u001b[0m     \u001b[38;5;28mprint\u001b[39m(x\u001b[38;5;241m*\u001b[39m\u001b[38;5;124m\"\u001b[39m\u001b[38;5;124m*\u001b[39m\u001b[38;5;124m\"\u001b[39m)\n",
      "\u001b[0;31mTypeError\u001b[0m: can't multiply sequence by non-int of type 'str'"
     ]
    }
   ],
   "source": [
    "lista = input(\"Inserisci una lista di numeri:\")\n",
    "caratteri = [int(x) for x in lista.split()]\n",
    "for x in lista:\n",
    "    print(x*\"*\")"
   ]
  },
  {
   "cell_type": "code",
   "execution_count": 80,
   "id": "8d1d4bd0-3a62-4348-ac78-b0ab1cbec87b",
   "metadata": {},
   "outputs": [
    {
     "name": "stdout",
     "output_type": "stream",
     "text": [
      "Codici che contengono 95: ['ABCDEF95G01A123B', 'STUVWX95Z04A654E', 'DEFGHI95J06A987G']\n",
      "Codice fiscale: ABCDEF95G01A123B -> Cognome: ABC, Nome: DEF\n",
      "Codice fiscale: STUVWX95Z04A654E -> Cognome: STU, Nome: VWX\n",
      "Codice fiscale: DEFGHI95J06A987G -> Cognome: DEF, Nome: GHI\n"
     ]
    }
   ],
   "source": [
    "lista_cf = [\"ABCDEF95G01A123B\", \"GHIJKL91M02A321C\", \"MNOPQR89S03A456D\", \"STUVWX95Z04A654E\", \"XYZABC01D05A789F\", \"DEFGHI95J06A987G\"]\n",
    "cf_95 = []\n",
    "for cf in lista_cf:\n",
    "    if \"95\" in cf:\n",
    "        cf_95.append(cf)\n",
    "print(\"Codici che contengono 95:\", cf_95)\n",
    "\n",
    "for cf in cf_95:\n",
    "    cognome = cf[:3]\n",
    "    nome = cf[3:6]\n",
    "    print(f\"Codice fiscale: {cf} -> Cognome: {cognome}, Nome: {nome}\")\n",
    "    "
   ]
  },
  {
   "cell_type": "code",
   "execution_count": 82,
   "id": "76400377-ac13-4863-8fe5-ccd20aebc7fc",
   "metadata": {},
   "outputs": [
    {
     "name": "stdout",
     "output_type": "stream",
     "text": [
      "Alex\n",
      "Faith\n"
     ]
    }
   ],
   "source": [
    "studenti = [\"Alex\", \"Bob\", \"Cindy\", \"Dan\", \"Emma\", \"Faith\", \"Grace\", \"Henry\"]\n",
    "corsi = [\"Cybersecurity\", \"Data Analyst\", \"Backend\", \"Frontend\", \"Data Analyst\", \"Backend\", \"Frontend\", \"Cybersecurity\"]\n",
    "edizioni = [1, 2, 3, 2, 2, 1, 3, 3]\n",
    "for i in range(len(studenti)):\n",
    "    if edizioni[i] == 1:\n",
    "        print(studenti[i])"
   ]
  },
  {
   "cell_type": "code",
   "execution_count": null,
   "id": "96720f57-f27b-4c2d-8aca-0c9e757968a3",
   "metadata": {},
   "outputs": [],
   "source": []
  }
 ],
 "metadata": {
  "kernelspec": {
   "display_name": "Python 3 (ipykernel)",
   "language": "python",
   "name": "python3"
  },
  "language_info": {
   "codemirror_mode": {
    "name": "ipython",
    "version": 3
   },
   "file_extension": ".py",
   "mimetype": "text/x-python",
   "name": "python",
   "nbconvert_exporter": "python",
   "pygments_lexer": "ipython3",
   "version": "3.12.7"
  }
 },
 "nbformat": 4,
 "nbformat_minor": 5
}
