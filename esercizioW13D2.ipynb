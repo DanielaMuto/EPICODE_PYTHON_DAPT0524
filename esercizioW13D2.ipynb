{
 "cells": [
  {
   "cell_type": "code",
   "execution_count": 1,
   "id": "8cb2fa76-082b-4795-8345-87c8fbbe294f",
   "metadata": {},
   "outputs": [],
   "source": [
    "nome_scuola = \"Epicode\""
   ]
  },
  {
   "cell_type": "code",
   "execution_count": 3,
   "id": "8d4bb834-7d78-4610-8e3b-b3e3b897c6b7",
   "metadata": {},
   "outputs": [],
   "source": [
    "index = 0"
   ]
  },
  {
   "cell_type": "code",
   "execution_count": 5,
   "id": "1f70b8dc-6382-44b5-a217-2a96da617146",
   "metadata": {},
   "outputs": [
    {
     "name": "stdout",
     "output_type": "stream",
     "text": [
      "E\n",
      "p\n",
      "i\n",
      "c\n",
      "o\n",
      "d\n",
      "e\n"
     ]
    }
   ],
   "source": [
    "while index < len(nome_scuola):\n",
    "    print(nome_scuola[index])\n",
    "    index += 1"
   ]
  },
  {
   "cell_type": "code",
   "execution_count": 7,
   "id": "b48dedd4-8738-4153-9bb2-f1c3124b1e58",
   "metadata": {},
   "outputs": [
    {
     "name": "stdout",
     "output_type": "stream",
     "text": [
      "0\n",
      "1\n",
      "2\n",
      "3\n",
      "4\n",
      "5\n",
      "6\n",
      "7\n",
      "8\n",
      "9\n",
      "10\n",
      "11\n",
      "12\n",
      "13\n",
      "14\n",
      "15\n",
      "16\n",
      "17\n",
      "18\n",
      "19\n",
      "20\n"
     ]
    }
   ],
   "source": [
    "numero = 0\n",
    "while numero <= 20:\n",
    "    print(numero)\n",
    "    numero += 1"
   ]
  },
  {
   "cell_type": "code",
   "execution_count": 8,
   "id": "0edc95cc-c83e-4d2d-b16f-bd5685f1b0db",
   "metadata": {},
   "outputs": [
    {
     "name": "stdout",
     "output_type": "stream",
     "text": [
      "2  4  8  16  32  64  128  256  512  1024  "
     ]
    }
   ],
   "source": [
    "n = 2\n",
    "m = n\n",
    "c = 0\n",
    "while c < 10:\n",
    "    print(n, end='  ')\n",
    "    n *= m\n",
    "    c += 1"
   ]
  },
  {
   "cell_type": "code",
   "execution_count": 16,
   "id": "76db70dd-184b-4c89-aeb2-9490e3c5d2a4",
   "metadata": {},
   "outputs": [
    {
     "name": "stdin",
     "output_type": "stream",
     "text": [
      "Inserire il valore di N: 19\n"
     ]
    },
    {
     "name": "stdout",
     "output_type": "stream",
     "text": [
      "2  4  8  16  32  64  128  256  512  1024  2048  4096  8192  16384  32768  65536  131072  262144  524288  "
     ]
    }
   ],
   "source": [
    "N = int(input(\"Inserire il valore di N:\"))\n",
    "n = 2\n",
    "c = 0\n",
    "if N < 20:\n",
    "    while c < N:\n",
    "        print(n, end='  ')\n",
    "        n *= 2\n",
    "        c += 1\n",
    "else:\n",
    "    print(\"Il valore massimo di N è 20\")"
   ]
  },
  {
   "cell_type": "code",
   "execution_count": 18,
   "id": "139da529-e8e1-4039-8428-0ca68aa24063",
   "metadata": {},
   "outputs": [
    {
     "name": "stdout",
     "output_type": "stream",
     "text": [
      "2**0 = 1\n",
      "2**1 = 2\n",
      "2**2 = 4\n",
      "2**3 = 8\n",
      "2**4 = 16\n",
      "2**5 = 32\n",
      "2**6 = 64\n",
      "2**7 = 128\n",
      "2**8 = 256\n",
      "2**9 = 512\n",
      "2**10 = 1024\n",
      "2**11 = 2048\n",
      "2**12 = 4096\n",
      "2**13 = 8192\n",
      "2**14 = 16384\n"
     ]
    }
   ],
   "source": [
    "esponente = 0\n",
    "potenza = 1\n",
    "while potenza < 25000:\n",
    "    print(f\"2**{esponente} = {potenza}\")\n",
    "    esponente += 1\n",
    "    potenza = 2 ** esponente"
   ]
  },
  {
   "cell_type": "code",
   "execution_count": 28,
   "id": "336a77b7-3a44-452d-ae72-e50cdd5a8218",
   "metadata": {},
   "outputs": [],
   "source": [
    "studenti = [\"Alex\", \"Bob\", \"Cindy\", \"Dan\", \"Emma\", \"Faith\", \"Grace\", \"Henry\"] \n",
    "corsi = [\"Cybersecurity\", \"Data Analyst\", \"Backend\", \"Frontend\", \"Data Analyst\", \"Backend\"]"
   ]
  },
  {
   "cell_type": "code",
   "execution_count": 30,
   "id": "579eedf3-0319-4ae8-aff4-e185563cb459",
   "metadata": {},
   "outputs": [],
   "source": [
    "if \"Emma\" in studenti and studenti.index(\"Emma\") >= len(corsi):\n",
    "    corsi.append(\"Data Analyst\")\n",
    "elif \"Faith\" in studenti and studenti.index(\"Faith\") >= len(corsi):\n",
    "    corsi.append(\"Backend\")\n",
    "elif \"Grace\" in studenti and studenti.index(\"Grace\") >= len(corsi):\n",
    "    corsi.append(\"Frontend\")\n",
    "elif \"Henry\" in studenti and studenti.index(\"Henry\") >= len(corsi):\n",
    "    corsi.append(\"Cybersecurity\")\n",
    "elif len(studenti) == len(corsi):\n",
    "    print(\"Le liste hanno la stessa lunghezza\")\n",
    "    print(corsi)\n",
    "else:\n",
    "    print(\"Le liste non hanno la stessa lunghezza\")\n",
    "    print(studenti)\n",
    "    print(corsi)"
   ]
  },
  {
   "cell_type": "code",
   "execution_count": 48,
   "id": "da21d068-24b1-4bb9-b25c-96742a00158f",
   "metadata": {},
   "outputs": [
    {
     "name": "stdin",
     "output_type": "stream",
     "text": [
      "Inserisci una stringa:  geografia\n"
     ]
    },
    {
     "name": "stdout",
     "output_type": "stream",
     "text": [
      "geo...fia\n"
     ]
    }
   ],
   "source": [
    "stringa = input(\"Inserisci una stringa: \")\n",
    "if len(stringa) < 6:\n",
    "    print(\"Inserire almeno 6 caratteri\")\n",
    "else:\n",
    "    print(f\"{stringa[:3]}...{stringa[-3:]}\")"
   ]
  },
  {
   "cell_type": "code",
   "execution_count": null,
   "id": "830dee4d-6929-4503-b20e-dc8a8cf92f3b",
   "metadata": {},
   "outputs": [],
   "source": []
  }
 ],
 "metadata": {
  "kernelspec": {
   "display_name": "Python 3 (ipykernel)",
   "language": "python",
   "name": "python3"
  },
  "language_info": {
   "codemirror_mode": {
    "name": "ipython",
    "version": 3
   },
   "file_extension": ".py",
   "mimetype": "text/x-python",
   "name": "python",
   "nbconvert_exporter": "python",
   "pygments_lexer": "ipython3",
   "version": "3.12.7"
  }
 },
 "nbformat": 4,
 "nbformat_minor": 5
}
