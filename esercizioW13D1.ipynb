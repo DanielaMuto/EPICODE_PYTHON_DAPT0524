{
 "cells": [
  {
   "cell_type": "code",
   "execution_count": 1,
   "id": "e3261bd3-a169-4618-ab10-5a4521fdc962",
   "metadata": {},
   "outputs": [],
   "source": [
    "studenti = 25"
   ]
  },
  {
   "cell_type": "code",
   "execution_count": 3,
   "id": "2e1b1b60-fa1e-4a83-bee3-43beec597037",
   "metadata": {},
   "outputs": [
    {
     "name": "stdout",
     "output_type": "stream",
     "text": [
      "25\n"
     ]
    }
   ],
   "source": [
    "print(studenti)"
   ]
  },
  {
   "cell_type": "code",
   "execution_count": 5,
   "id": "95f0c2db-08fc-41d6-9332-799debefc71d",
   "metadata": {},
   "outputs": [],
   "source": [
    "nuovi = 3"
   ]
  },
  {
   "cell_type": "code",
   "execution_count": 7,
   "id": "59ffa61c-ed4e-44fc-b67b-a5207265eef3",
   "metadata": {},
   "outputs": [],
   "source": [
    "tot_stud = studenti + nuovi"
   ]
  },
  {
   "cell_type": "code",
   "execution_count": 9,
   "id": "35921d76-119a-4414-969e-a928bcf75f26",
   "metadata": {},
   "outputs": [
    {
     "name": "stdout",
     "output_type": "stream",
     "text": [
      "28\n"
     ]
    }
   ],
   "source": [
    "print(tot_stud)"
   ]
  },
  {
   "cell_type": "code",
   "execution_count": 11,
   "id": "39e81139-3883-47cc-884d-4b512d4415de",
   "metadata": {},
   "outputs": [],
   "source": [
    "nome = \"Epicode\""
   ]
  },
  {
   "cell_type": "code",
   "execution_count": 13,
   "id": "1ad38a7b-8699-45d5-9d8e-a3e0dfa35052",
   "metadata": {},
   "outputs": [
    {
     "name": "stdout",
     "output_type": "stream",
     "text": [
      "Epicode\n"
     ]
    }
   ],
   "source": [
    "print(nome)"
   ]
  },
  {
   "cell_type": "code",
   "execution_count": 15,
   "id": "78349412-c896-4710-97ca-758a58822a51",
   "metadata": {},
   "outputs": [],
   "source": [
    "x = 10"
   ]
  },
  {
   "cell_type": "code",
   "execution_count": 17,
   "id": "02ecd91b-cdd2-4f74-a701-a8d7be81de98",
   "metadata": {},
   "outputs": [],
   "source": [
    "x += 2"
   ]
  },
  {
   "cell_type": "code",
   "execution_count": 19,
   "id": "2fa4bdec-c4fd-47e4-b8ef-fc7a5bcec6a4",
   "metadata": {},
   "outputs": [],
   "source": [
    "x *= 3"
   ]
  },
  {
   "cell_type": "code",
   "execution_count": 21,
   "id": "a2ae4fdb-7932-4e7f-9524-10fee9574672",
   "metadata": {},
   "outputs": [
    {
     "data": {
      "text/plain": [
       "36"
      ]
     },
     "execution_count": 21,
     "metadata": {},
     "output_type": "execute_result"
    }
   ],
   "source": [
    "x"
   ]
  },
  {
   "cell_type": "code",
   "execution_count": 37,
   "id": "f850323f-4617-44c7-80ed-dd70f1c7b7e0",
   "metadata": {},
   "outputs": [],
   "source": [
    "x2 = 10"
   ]
  },
  {
   "cell_type": "code",
   "execution_count": 39,
   "id": "7cc3da32-259b-43fa-aa50-e2ddaeb09581",
   "metadata": {},
   "outputs": [],
   "source": [
    "x3 = 2"
   ]
  },
  {
   "cell_type": "code",
   "execution_count": 41,
   "id": "1e438c72-ca0a-472f-aa4a-c62f07fbfff2",
   "metadata": {},
   "outputs": [],
   "source": [
    "x4 = 3"
   ]
  },
  {
   "cell_type": "code",
   "execution_count": 43,
   "id": "5902b7b8-4084-499e-94af-b7a3cd527182",
   "metadata": {},
   "outputs": [],
   "source": [
    "x2 = (x2 + x3) * x4"
   ]
  },
  {
   "cell_type": "code",
   "execution_count": 45,
   "id": "5f98e6d4-1eda-4f3a-8da0-231008fe9463",
   "metadata": {},
   "outputs": [
    {
     "data": {
      "text/plain": [
       "36"
      ]
     },
     "execution_count": 45,
     "metadata": {},
     "output_type": "execute_result"
    }
   ],
   "source": [
    "x2"
   ]
  },
  {
   "cell_type": "code",
   "execution_count": 47,
   "id": "4aa63648-20dc-412f-aa30-cc84470f0a5f",
   "metadata": {},
   "outputs": [],
   "source": [
    "str1 = \"Windows\""
   ]
  },
  {
   "cell_type": "code",
   "execution_count": 49,
   "id": "a5621b2c-4740-4ce4-8883-868f1e4708c1",
   "metadata": {},
   "outputs": [],
   "source": [
    "str2 = \"Excel\""
   ]
  },
  {
   "cell_type": "code",
   "execution_count": 51,
   "id": "7527cb95-50e8-4bfd-8b19-4615e09093b6",
   "metadata": {},
   "outputs": [],
   "source": [
    "str3 = \"Powerpoint\""
   ]
  },
  {
   "cell_type": "code",
   "execution_count": 53,
   "id": "daedc9ba-1b8c-4f02-b546-11d2246a1df4",
   "metadata": {},
   "outputs": [],
   "source": [
    "str4 = \"Word\""
   ]
  },
  {
   "cell_type": "code",
   "execution_count": 55,
   "id": "06cbfaa2-0bc8-48f5-8146-15b0facd94b7",
   "metadata": {},
   "outputs": [
    {
     "data": {
      "text/plain": [
       "7"
      ]
     },
     "execution_count": 55,
     "metadata": {},
     "output_type": "execute_result"
    }
   ],
   "source": [
    "len(str1)"
   ]
  },
  {
   "cell_type": "code",
   "execution_count": 57,
   "id": "0f58e1f9-dd0d-44c7-b891-f70418baa6a5",
   "metadata": {},
   "outputs": [
    {
     "data": {
      "text/plain": [
       "5"
      ]
     },
     "execution_count": 57,
     "metadata": {},
     "output_type": "execute_result"
    }
   ],
   "source": [
    "len(str2)"
   ]
  },
  {
   "cell_type": "code",
   "execution_count": 59,
   "id": "bacc92f7-1933-466d-a152-d8e87330308e",
   "metadata": {},
   "outputs": [
    {
     "data": {
      "text/plain": [
       "10"
      ]
     },
     "execution_count": 59,
     "metadata": {},
     "output_type": "execute_result"
    }
   ],
   "source": [
    "len(str3)"
   ]
  },
  {
   "cell_type": "code",
   "execution_count": 61,
   "id": "cf3bfc19-0818-4be7-9758-3c9e9f15dc16",
   "metadata": {},
   "outputs": [
    {
     "data": {
      "text/plain": [
       "4"
      ]
     },
     "execution_count": 61,
     "metadata": {},
     "output_type": "execute_result"
    }
   ],
   "source": [
    "len(str4)"
   ]
  },
  {
   "cell_type": "code",
   "execution_count": 63,
   "id": "6d85c8b7-5afa-4317-b38b-c8b5241b06a1",
   "metadata": {},
   "outputs": [
    {
     "name": "stdout",
     "output_type": "stream",
     "text": [
      "31536000\n"
     ]
    }
   ],
   "source": [
    "giorni_anno = 365\n",
    "ore_giorno = 24\n",
    "minuti_ora = 60\n",
    "secondi_minuto = 60\n",
    "secondi_anno = giorni_anno * ore_giorno * minuti_ora * secondi_minuto\n",
    "print(secondi_anno)"
   ]
  },
  {
   "cell_type": "code",
   "execution_count": 65,
   "id": "bb54a5ba-1428-4e4d-9745-ef9b50e60ec6",
   "metadata": {},
   "outputs": [],
   "source": [
    "my_string = \"I am studying Python\""
   ]
  },
  {
   "cell_type": "code",
   "execution_count": 67,
   "id": "dc6ef831-5c33-4f05-8616-0b8942a7c91b",
   "metadata": {},
   "outputs": [
    {
     "data": {
      "text/plain": [
       "'I AM STUDYING PYTHON'"
      ]
     },
     "execution_count": 67,
     "metadata": {},
     "output_type": "execute_result"
    }
   ],
   "source": [
    "my_string.upper()"
   ]
  },
  {
   "cell_type": "code",
   "execution_count": 69,
   "id": "8b9d1427-f91e-41cf-9b6d-687296d9dc59",
   "metadata": {},
   "outputs": [
    {
     "data": {
      "text/plain": [
       "'i am studying python'"
      ]
     },
     "execution_count": 69,
     "metadata": {},
     "output_type": "execute_result"
    }
   ],
   "source": [
    "my_string.lower()"
   ]
  },
  {
   "cell_type": "code",
   "execution_count": 71,
   "id": "1ce3d63b-ac83-4215-a5f3-2f01149be4d4",
   "metadata": {},
   "outputs": [
    {
     "data": {
      "text/plain": [
       "'I am studying a lot'"
      ]
     },
     "execution_count": 71,
     "metadata": {},
     "output_type": "execute_result"
    }
   ],
   "source": [
    "my_string.replace(\"Python\", \"a lot\")"
   ]
  },
  {
   "cell_type": "code",
   "execution_count": 73,
   "id": "65efe21d-246b-4f1b-a63a-169a488d39cc",
   "metadata": {},
   "outputs": [
    {
     "data": {
      "text/plain": [
       "'I am studying Python'"
      ]
     },
     "execution_count": 73,
     "metadata": {},
     "output_type": "execute_result"
    }
   ],
   "source": [
    "my_string.strip()"
   ]
  },
  {
   "cell_type": "code",
   "execution_count": null,
   "id": "2e170fc2-e866-434c-bd68-9e07f4d5b490",
   "metadata": {},
   "outputs": [],
   "source": []
  }
 ],
 "metadata": {
  "kernelspec": {
   "display_name": "Python 3 (ipykernel)",
   "language": "python",
   "name": "python3"
  },
  "language_info": {
   "codemirror_mode": {
    "name": "ipython",
    "version": 3
   },
   "file_extension": ".py",
   "mimetype": "text/x-python",
   "name": "python",
   "nbconvert_exporter": "python",
   "pygments_lexer": "ipython3",
   "version": "3.12.7"
  }
 },
 "nbformat": 4,
 "nbformat_minor": 5
}
