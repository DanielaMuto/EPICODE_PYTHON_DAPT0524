{
 "cells": [
  {
   "cell_type": "code",
   "execution_count": 1,
   "id": "3fd67ebd-54f7-4e58-97dd-5e65a0463a21",
   "metadata": {},
   "outputs": [
    {
     "data": {
      "text/plain": [
       "10"
      ]
     },
     "execution_count": 1,
     "metadata": {},
     "output_type": "execute_result"
    }
   ],
   "source": [
    "mat = [[0, 1, 2, 3, 4], [5, 6, 7, 8, 9], [10, 11, 12, 13, 14]]\n",
    "mat[2][0]"
   ]
  },
  {
   "cell_type": "code",
   "execution_count": 4,
   "id": "604375c2-1212-4ad0-a7f2-00e57ca26ddd",
   "metadata": {},
   "outputs": [
    {
     "data": {
      "text/plain": [
       "10"
      ]
     },
     "execution_count": 4,
     "metadata": {},
     "output_type": "execute_result"
    }
   ],
   "source": [
    "import numpy as np\n",
    "mat = [[0, 1, 2, 3, 4], [5, 6, 7, 8, 9], [10, 11, 12, 13, 14]]\n",
    "matrice = np.array(mat)\n",
    "matrice[2,0]"
   ]
  },
  {
   "cell_type": "code",
   "execution_count": 14,
   "id": "5bc74559-c6e7-4eee-ae6d-a54ae5317a79",
   "metadata": {},
   "outputs": [
    {
     "name": "stdout",
     "output_type": "stream",
     "text": [
      "1.0\n",
      "-0.5063656411097588\n",
      "6\n"
     ]
    }
   ],
   "source": [
    "import math\n",
    "a = math.cos(2*math.pi)\n",
    "print(a)\n",
    "b = math.sin(100)\n",
    "print(b)\n",
    "c = math.factorial(3)\n",
    "print(c)"
   ]
  },
  {
   "cell_type": "code",
   "execution_count": 16,
   "id": "2cf6a45e-7a19-4cd6-b65c-b82ec1e379ae",
   "metadata": {},
   "outputs": [
    {
     "name": "stdout",
     "output_type": "stream",
     "text": [
      "180.0\n"
     ]
    }
   ],
   "source": [
    "p = math.degrees(math.pi)\n",
    "print(p)"
   ]
  },
  {
   "cell_type": "code",
   "execution_count": 18,
   "id": "14439279-c2fa-44b6-a802-eddcf1056bfe",
   "metadata": {},
   "outputs": [
    {
     "name": "stdout",
     "output_type": "stream",
     "text": [
      "Help on built-in function degrees in module math:\n",
      "\n",
      "degrees(x, /)\n",
      "    Convert angle x from radians to degrees.\n",
      "\n"
     ]
    }
   ],
   "source": [
    "help(math.degrees)"
   ]
  },
  {
   "cell_type": "code",
   "execution_count": 44,
   "id": "06a8318f-af49-482c-af58-3798bd06cff2",
   "metadata": {},
   "outputs": [
    {
     "name": "stdout",
     "output_type": "stream",
     "text": [
      "La vendita massima è stata: 8150\n",
      "La vendita minima è stata: 1280\n",
      "Le vendite maggiori di 4999 sono: [5500, 7200, 6410, 8150, 7100, 5350]\n",
      "Le vendite minori di 3000 sono: [2000, 1280, 1900, 2500]\n",
      "La media mensile è: 4634.166666666667\n"
     ]
    }
   ],
   "source": [
    "import numpy as np\n",
    "lst = [2000, 5500, 7200, 4320, 1280, 1900, 2500, 3900, 6410, 8150, 7100, 5350]\n",
    "lst = np.array(lst)\n",
    "max_value = np.max(lst)\n",
    "print(\"La vendita massima è stata:\",max_value)\n",
    "min_value = np.min(lst)\n",
    "print(\"La vendita minima è stata:\",min_value)\n",
    "\n",
    "maggiori_4999 = []\n",
    "for i in lst:\n",
    "    if i > 4999:\n",
    "        maggiori_4999.append(i)\n",
    "print(\"Le vendite maggiori di 4999 sono:\", maggiori_4999)\n",
    "\n",
    "minori_3000 = []\n",
    "for i in lst:\n",
    "    if i < 3000:\n",
    "        minori_3000.append(i)\n",
    "print(\"Le vendite minori di 3000 sono:\", minori_3000)\n",
    "\n",
    "nparray = np.array(lst)\n",
    "media_mensile = np.mean(nparray)\n",
    "print(\"La media mensile è:\", media_mensile)"
   ]
  },
  {
   "cell_type": "code",
   "execution_count": null,
   "id": "dd011fd2-a17b-493f-809e-e6d27007132b",
   "metadata": {},
   "outputs": [],
   "source": []
  }
 ],
 "metadata": {
  "kernelspec": {
   "display_name": "Python 3 (ipykernel)",
   "language": "python",
   "name": "python3"
  },
  "language_info": {
   "codemirror_mode": {
    "name": "ipython",
    "version": 3
   },
   "file_extension": ".py",
   "mimetype": "text/x-python",
   "name": "python",
   "nbconvert_exporter": "python",
   "pygments_lexer": "ipython3",
   "version": "3.12.7"
  }
 },
 "nbformat": 4,
 "nbformat_minor": 5
}
